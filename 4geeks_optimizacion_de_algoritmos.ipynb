{
  "nbformat": 4,
  "nbformat_minor": 0,
  "metadata": {
    "colab": {
      "provenance": [],
      "authorship_tag": "ABX9TyPlfQsgXufaeu0ZTRDdboUu",
      "include_colab_link": true
    },
    "kernelspec": {
      "name": "python3",
      "display_name": "Python 3"
    },
    "language_info": {
      "name": "python"
    }
  },
  "cells": [
    {
      "cell_type": "markdown",
      "metadata": {
        "id": "view-in-github",
        "colab_type": "text"
      },
      "source": [
        "<a href=\"https://colab.research.google.com/github/JPineiro13/JPineiro13/blob/main/4geeks_optimizacion_de_algoritmos.ipynb\" target=\"_parent\"><img src=\"https://colab.research.google.com/assets/colab-badge.svg\" alt=\"Open In Colab\"/></a>"
      ]
    },
    {
      "cell_type": "code",
      "execution_count": 8,
      "metadata": {
        "colab": {
          "base_uri": "https://localhost:8080/"
        },
        "id": "xr2f_w_R-N_6",
        "outputId": "c8739b7c-5c60-477f-b8f9-b551fdd32929"
      },
      "outputs": [
        {
          "output_type": "stream",
          "name": "stdout",
          "text": [
            "'the' aparece un total de: 4 veces\n",
            "'of' aparece un total de: 3 veces\n",
            "'a' aparece un total de: 2 veces\n",
            "'she' aparece un total de: 2 veces\n",
            "'her' aparece un total de: 2 veces\n"
          ]
        }
      ],
      "source": [
        "#Ej 1\n",
        "\n",
        "import string\n",
        "from collections import Counter\n",
        "\n",
        "\n",
        "def procesador_mejorado(text):\n",
        "    texto = text.lower()\n",
        "\n",
        "#Usamos translate para no tener que hacer un bucle\n",
        "    translator = str.maketrans(\"\", \"\", string.punctuation)\n",
        "    texto = text.translate(translator)\n",
        "\n",
        "    words = text.split()\n",
        "    frequencies = Counter(words)\n",
        "\n",
        "\n",
        "    palabras_comunes = frequencies.most_common(5)\n",
        "\n",
        "    for palabra, veces in palabras_comunes:\n",
        "        print(f\"'{palabra}' aparece un total de {veces} veces\")\n",
        "\n",
        "texto = \"\"\"\n",
        "    In the heart of the city, Emily discovered a quaint little café, hidden away from the bustling streets.\n",
        "    The aroma of freshly baked pastries wafted through the air, drawing in passersby. As she sipped on her latte,\n",
        "    she noticed an old bookshelf filled with classics, creating a cozy atmosphere that made her lose track of time.\n",
        "\"\"\"\n",
        "procesador_mejorado(texto)\n",
        "\n"
      ]
    },
    {
      "cell_type": "code",
      "source": [
        "def procesar_lista(lista):\n",
        "\n",
        "  duplicar_lista = seleccion_y_duplicacion_pares(lista)\n",
        "\n",
        "  suma = sum(duplicar_lista)\n",
        "  return suma\n",
        "\n",
        "#Esta es una de las mayores mejoras que se pueden hacer para el test de primalidad\n",
        "#Se basa en el pequeño teorema de Fermat, y es capaz de determinar la primalidad de cualquier entero\n",
        "#Es un test probabilistico. No obstante, con los números que he elegido como base, tiene un 100%\n",
        "#de fiabilidad para cualquier entero por debajo de 9.080.191\n",
        "\n",
        "#Está optimizado para, en lugar de calcular las potencias y después aplicar la operación de módulo,\n",
        "# realizar la operación de módulo en cada iteración de la potencia, por lo que el número con el que\n",
        "# se trabaja está siempre en un rango manejable para el programa\n",
        "\n",
        "def test_primalidad(base, exponente, modulo, veces):\n",
        "    resultado = pow(base, exponente, modulo)\n",
        "\n",
        "    for _ in range(veces - 1):\n",
        "        resultado = (resultado * base) % modulo\n",
        "\n",
        "    return resultado\n",
        "\n",
        "numero_dado = procesar_lista(lista)\n",
        "numero_veces = (numero_dado - 1) // 2\n",
        "\n",
        "base_2_resultado = test_primalidad(2, 1, numero_dado, numero_veces)\n",
        "base_3_resultado = test_primalidad(3, 1, numero_dado, numero_veces)\n",
        "\n",
        "if (base_2_resultado == 1 or base_2_resultado == numero_dado - 1) and \\\n",
        "   (base_3_resultado == 1 or base_3_resultado == numero_dado - 1):\n",
        "    print(f\"El {numero_dado} es primo\")\n",
        "else:\n",
        "    print(f\"El {numero_dado} es compuesto\")\n",
        "\n",
        "\n",
        "def seleccion_y_duplicacion_pares(lista):\n",
        "\n",
        "  return [num * 2 for num in lista if num % 2 == 0]\n",
        "\n",
        "lista = [1, 2, 3, 4, 5, 6, 7, 8, 9, 10]\n",
        "\n",
        "print(\"La suma de la lista es\", numero_dado)\n"
      ],
      "metadata": {
        "colab": {
          "base_uri": "https://localhost:8080/"
        },
        "id": "NwQo8ZnoB5qn",
        "outputId": "fefd88d9-7d39-4cf8-c6c3-9d6e7b7df1e6"
      },
      "execution_count": 39,
      "outputs": [
        {
          "output_type": "stream",
          "name": "stdout",
          "text": [
            "El 60 es compuesto\n",
            "La suma de la lista es 60\n"
          ]
        }
      ]
    }
  ]
}